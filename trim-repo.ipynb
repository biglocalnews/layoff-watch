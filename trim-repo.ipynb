{
 "cells": [
  {
   "cell_type": "markdown",
   "id": "7cbdf07c",
   "metadata": {},
   "source": [
    "# Here be dragons.\n",
    "### Before you do anything\n",
    "* Read everything below.\n",
    "* Download a complete, fresh copy of the repo you want to shrink.\n",
    "* Copy that repo again on your computer.\n",
    "* Run this carefully on a copy of the newly copied repo. Copy?\n",
    "\n",
    "### What this does\n",
    "This attempts to take the non-main/non-master branches of a Git repo that's been bloated through excessive snapshots of Github Actions. It aims to substantially shrink the size of repos.\n",
    "\n",
    "It builds a branch of each of those original branches; commits those files; deletes the original branch; and uploads the replacement in its stead.\n",
    "\n",
    "This in effect flattens the repo and kills off all the history, including older snapshots of working files that have been getting diff'd."
   ]
  },
  {
   "cell_type": "code",
   "execution_count": 1,
   "id": "828b8097",
   "metadata": {},
   "outputs": [
    {
     "name": "stdout",
     "output_type": "stream",
     "text": [
      "Requirement already satisfied: GitPython in c:\\python\\lib\\site-packages (3.1.32)\n",
      "Requirement already satisfied: gitdb<5,>=4.0.1 in c:\\python\\lib\\site-packages (from GitPython) (4.0.10)\n",
      "Requirement already satisfied: smmap<6,>=3.0.1 in c:\\python\\lib\\site-packages (from gitdb<5,>=4.0.1->GitPython) (5.0.0)\n"
     ]
    },
    {
     "name": "stderr",
     "output_type": "stream",
     "text": [
      "WARNING: Ignoring invalid distribution -arn-transformer (c:\\python\\lib\\site-packages)\n",
      "WARNING: Ignoring invalid distribution -arn-transformer (c:\\python\\lib\\site-packages)\n"
     ]
    }
   ],
   "source": [
    "import sys\n",
    "!{sys.executable} -m pip install GitPython"
   ]
  },
  {
   "cell_type": "code",
   "execution_count": 2,
   "id": "5b6b073c",
   "metadata": {},
   "outputs": [],
   "source": [
    "from git import *"
   ]
  },
  {
   "cell_type": "code",
   "execution_count": 3,
   "id": "470aef79",
   "metadata": {},
   "outputs": [],
   "source": [
    "untouchables = [\"origin/HEAD\", \"origin/main\", \"origin/master\"]    # What branches should never be trimmed?"
   ]
  },
  {
   "cell_type": "code",
   "execution_count": 4,
   "id": "29914b4c",
   "metadata": {},
   "outputs": [],
   "source": [
    "repo = Repo('.')\n",
    "assert not repo.bare"
   ]
  },
  {
   "cell_type": "code",
   "execution_count": 5,
   "id": "e5516cf0",
   "metadata": {},
   "outputs": [],
   "source": [
    "git = repo.git"
   ]
  },
  {
   "cell_type": "code",
   "execution_count": 6,
   "id": "a8591f2f",
   "metadata": {},
   "outputs": [],
   "source": [
    "remote_refs = repo.remote().refs"
   ]
  },
  {
   "cell_type": "code",
   "execution_count": 9,
   "id": "ba29c64d",
   "metadata": {},
   "outputs": [],
   "source": [
    "branchestotrim = {}"
   ]
  },
  {
   "cell_type": "code",
   "execution_count": 10,
   "id": "3ea3cf7d",
   "metadata": {},
   "outputs": [],
   "source": [
    "for remote_ref in remote_refs:\n",
    "    if remote_ref.name not in untouchables:\n",
    "        branchhost = remote_ref.name.split(\"/\")[0]   \n",
    "        branchtarget = \"/\".join(remote_ref.name.split(\"/\")[1:])\n",
    "        branchestotrim[remote_ref.name] = {\n",
    "            \"host\": branchhost,\n",
    "            \"target\": branchtarget\n",
    "        }"
   ]
  },
  {
   "cell_type": "code",
   "execution_count": 11,
   "id": "2eb39ef8",
   "metadata": {},
   "outputs": [],
   "source": [
    "# Make remote branches locally trackable\n",
    "\n",
    "# git branch --track origin/ca#origin origin/ca\n",
    "for branchtotrim in branchestotrim:\n",
    "    branchhost = branchestotrim[branchtotrim][\"host\"]    \n",
    "    branchtarget = branchestotrim[branchtotrim][\"target\"]\n",
    "    git.branch(\"--track\", f\"{branchtotrim}#{branchhost}\", branchtotrim)"
   ]
  },
  {
   "cell_type": "raw",
   "id": "5c28f8b6",
   "metadata": {},
   "source": [
    "# For testing use\n",
    "\n",
    "git branch --track origin/HEAD#origin origin/HEAD\n",
    "git branch --track origin/main#origin origin/main\n",
    "git remote remove origin\n",
    "git remote add origin git@github.com:stucka/flow-test.git\n",
    "git push --set-upstream origin main"
   ]
  },
  {
   "cell_type": "code",
   "execution_count": 14,
   "id": "73a2410a",
   "metadata": {
    "scrolled": true
   },
   "outputs": [
    {
     "ename": "GitCommandError",
     "evalue": "Cmd('git') failed due to: exit code(1)\n  cmdline: git checkout origin/ak#origin\n  stderr: 'error: Your local changes to the following files would be overwritten by checkout:\n\ttrim-repo.ipynb\nPlease commit your changes or stash them before you switch branches.\nAborting'",
     "output_type": "error",
     "traceback": [
      "\u001b[1;31m---------------------------------------------------------------------------\u001b[0m",
      "\u001b[1;31mGitCommandError\u001b[0m                           Traceback (most recent call last)",
      "Input \u001b[1;32mIn [14]\u001b[0m, in \u001b[0;36m<cell line: 1>\u001b[1;34m()\u001b[0m\n\u001b[0;32m      3\u001b[0m branchhost \u001b[38;5;241m=\u001b[39m branchestotrim[branchtotrim][\u001b[38;5;124m\"\u001b[39m\u001b[38;5;124mhost\u001b[39m\u001b[38;5;124m\"\u001b[39m]    \n\u001b[0;32m      4\u001b[0m branchtarget \u001b[38;5;241m=\u001b[39m branchestotrim[branchtotrim][\u001b[38;5;124m\"\u001b[39m\u001b[38;5;124mtarget\u001b[39m\u001b[38;5;124m\"\u001b[39m]\n\u001b[1;32m----> 5\u001b[0m \u001b[43mgit\u001b[49m\u001b[38;5;241;43m.\u001b[39;49m\u001b[43mcheckout\u001b[49m\u001b[43m(\u001b[49m\u001b[38;5;124;43mf\u001b[39;49m\u001b[38;5;124;43m\"\u001b[39;49m\u001b[38;5;132;43;01m{\u001b[39;49;00m\u001b[43mbranchtotrim\u001b[49m\u001b[38;5;132;43;01m}\u001b[39;49;00m\u001b[38;5;124;43m#\u001b[39;49m\u001b[38;5;132;43;01m{\u001b[39;49;00m\u001b[43mbranchhost\u001b[49m\u001b[38;5;132;43;01m}\u001b[39;49;00m\u001b[38;5;124;43m\"\u001b[39;49m\u001b[43m)\u001b[49m\n\u001b[0;32m      6\u001b[0m \u001b[38;5;28mprint\u001b[39m(\u001b[38;5;124mf\u001b[39m\u001b[38;5;124m\"\u001b[39m\u001b[38;5;124mWorking on \u001b[39m\u001b[38;5;132;01m{\u001b[39;00mbranchtotrim\u001b[38;5;132;01m}\u001b[39;00m\u001b[38;5;124m at \u001b[39m\u001b[38;5;132;01m{\u001b[39;00mlocalname\u001b[38;5;132;01m}\u001b[39;00m\u001b[38;5;124m\"\u001b[39m)\n\u001b[0;32m      7\u001b[0m git\u001b[38;5;241m.\u001b[39mcheckout(\u001b[38;5;124m\"\u001b[39m\u001b[38;5;124m--orphan\u001b[39m\u001b[38;5;124m\"\u001b[39m, localname)\n",
      "File \u001b[1;32mC:\\Python\\lib\\site-packages\\git\\cmd.py:741\u001b[0m, in \u001b[0;36mGit.__getattr__.<locals>.<lambda>\u001b[1;34m(*args, **kwargs)\u001b[0m\n\u001b[0;32m    739\u001b[0m \u001b[38;5;28;01mif\u001b[39;00m name[\u001b[38;5;241m0\u001b[39m] \u001b[38;5;241m==\u001b[39m \u001b[38;5;124m\"\u001b[39m\u001b[38;5;124m_\u001b[39m\u001b[38;5;124m\"\u001b[39m:\n\u001b[0;32m    740\u001b[0m     \u001b[38;5;28;01mreturn\u001b[39;00m LazyMixin\u001b[38;5;241m.\u001b[39m\u001b[38;5;21m__getattr__\u001b[39m(\u001b[38;5;28mself\u001b[39m, name)\n\u001b[1;32m--> 741\u001b[0m \u001b[38;5;28;01mreturn\u001b[39;00m \u001b[38;5;28;01mlambda\u001b[39;00m \u001b[38;5;241m*\u001b[39margs, \u001b[38;5;241m*\u001b[39m\u001b[38;5;241m*\u001b[39mkwargs: \u001b[38;5;28mself\u001b[39m\u001b[38;5;241m.\u001b[39m_call_process(name, \u001b[38;5;241m*\u001b[39margs, \u001b[38;5;241m*\u001b[39m\u001b[38;5;241m*\u001b[39mkwargs)\n",
      "File \u001b[1;32mC:\\Python\\lib\\site-packages\\git\\cmd.py:1315\u001b[0m, in \u001b[0;36mGit._call_process\u001b[1;34m(self, method, *args, **kwargs)\u001b[0m\n\u001b[0;32m   1312\u001b[0m call\u001b[38;5;241m.\u001b[39mappend(dashify(method))\n\u001b[0;32m   1313\u001b[0m call\u001b[38;5;241m.\u001b[39mextend(args_list)\n\u001b[1;32m-> 1315\u001b[0m \u001b[38;5;28;01mreturn\u001b[39;00m \u001b[38;5;28mself\u001b[39m\u001b[38;5;241m.\u001b[39mexecute(call, \u001b[38;5;241m*\u001b[39m\u001b[38;5;241m*\u001b[39mexec_kwargs)\n",
      "File \u001b[1;32mC:\\Python\\lib\\site-packages\\git\\cmd.py:1109\u001b[0m, in \u001b[0;36mGit.execute\u001b[1;34m(self, command, istream, with_extended_output, with_exceptions, as_process, output_stream, stdout_as_string, kill_after_timeout, with_stdout, universal_newlines, shell, env, max_chunk_size, strip_newline_in_stdout, **subprocess_kwargs)\u001b[0m\n\u001b[0;32m   1106\u001b[0m \u001b[38;5;66;03m# END handle debug printing\u001b[39;00m\n\u001b[0;32m   1108\u001b[0m \u001b[38;5;28;01mif\u001b[39;00m with_exceptions \u001b[38;5;129;01mand\u001b[39;00m status \u001b[38;5;241m!=\u001b[39m \u001b[38;5;241m0\u001b[39m:\n\u001b[1;32m-> 1109\u001b[0m     \u001b[38;5;28;01mraise\u001b[39;00m GitCommandError(redacted_command, status, stderr_value, stdout_value)\n\u001b[0;32m   1111\u001b[0m \u001b[38;5;28;01mif\u001b[39;00m \u001b[38;5;28misinstance\u001b[39m(stdout_value, \u001b[38;5;28mbytes\u001b[39m) \u001b[38;5;129;01mand\u001b[39;00m stdout_as_string:  \u001b[38;5;66;03m# could also be output_stream\u001b[39;00m\n\u001b[0;32m   1112\u001b[0m     stdout_value \u001b[38;5;241m=\u001b[39m safe_decode(stdout_value)\n",
      "\u001b[1;31mGitCommandError\u001b[0m: Cmd('git') failed due to: exit code(1)\n  cmdline: git checkout origin/ak#origin\n  stderr: 'error: Your local changes to the following files would be overwritten by checkout:\n\ttrim-repo.ipynb\nPlease commit your changes or stash them before you switch branches.\nAborting'"
     ]
    }
   ],
   "source": [
    "for branchtotrim in branchestotrim:\n",
    "    localname = \"local-\" + branchtotrim.split(\"/\")[-1]\n",
    "    branchhost = branchestotrim[branchtotrim][\"host\"]    \n",
    "    branchtarget = branchestotrim[branchtotrim][\"target\"]\n",
    "    git.checkout(f\"{branchtotrim}#{branchhost}\")\n",
    "    print(f\"Working on {branchtotrim} at {localname}\")\n",
    "    git.checkout(\"--orphan\", localname)\n",
    "    git.add(\"-A\")     # Add all files\n",
    "    changedFiles = repo.index.diff(\"HEAD\")\n",
    "    if not changedFiles:      # Delete temporary branch and do nothing else\n",
    "        git.checkout(branchtotrim)\n",
    "        git.branch(\"-D\", localname)\n",
    "    else:              # Files changed; replace old branch with temporary branch\n",
    "        git.commit(\"-m\", f\"Cleaning up {branchtotrim}\")\n",
    "        git.branch(\"-D\", branchtotrim)    # Delete old branch\n",
    "        git.branch(\"-m\", branchtotrim)    # Move temporary branch into its place\n",
    "        git.push(\"-u\", \"-f\", branchhost, branchtarget)    # And upload"
   ]
  },
  {
   "cell_type": "code",
   "execution_count": null,
   "id": "c990eeda",
   "metadata": {},
   "outputs": [],
   "source": []
  },
  {
   "cell_type": "raw",
   "id": "88c3b8d5",
   "metadata": {},
   "source": [
    "Old notes -- DO NOT RUN or this will destroy important stuff\n",
    "git checkout --orphan newBranch\n",
    "rem Add all files and commit them\n",
    "git add -A\n",
    "git commit -m \"Burn repo to the ground\"\n",
    "rem # Deletes the master branch\n",
    "git branch -D master  \n",
    "rem Rename the current branch to master\n",
    "git branch -m master  \n",
    "rem # remove the old files\n",
    "git gc --aggressive --prune=all    \n",
    "rem # Force push master branch to github\n",
    "git push -u -f origin master  \n",
    "rem  # remove the old files\n",
    "git gc --aggressive --prune=all    "
   ]
  }
 ],
 "metadata": {
  "kernelspec": {
   "display_name": "Python 3 (ipykernel)",
   "language": "python",
   "name": "python3"
  },
  "language_info": {
   "codemirror_mode": {
    "name": "ipython",
    "version": 3
   },
   "file_extension": ".py",
   "mimetype": "text/x-python",
   "name": "python",
   "nbconvert_exporter": "python",
   "pygments_lexer": "ipython3",
   "version": "3.10.6"
  }
 },
 "nbformat": 4,
 "nbformat_minor": 5
}
