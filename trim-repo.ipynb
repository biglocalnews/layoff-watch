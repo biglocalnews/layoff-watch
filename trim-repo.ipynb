{
 "cells": [
  {
   "cell_type": "markdown",
   "id": "7cbdf07c",
   "metadata": {},
   "source": [
    "# Here be dragons.\n",
    "### Before you do anything\n",
    "* Read everything below.\n",
    "* Download a complete, fresh copy of the repo you want to shrink.\n",
    "* Copy that repo again on your computer.\n",
    "* Run this carefully on a copy of the newly copied repo. Copy?\n",
    "\n",
    "### What this does\n",
    "This attempts to take the non-main/non-master branches of a Git repo that's been bloated through excessive snapshots of Github Actions. It aims to substantially shrink the size of repos.\n",
    "\n",
    "It builds a branch of each of those original branches; commits those files; deletes the original branch; and uploads the replacement in its stead.\n",
    "\n",
    "This in effect flattens the repo and kills off all the history, including older snapshots of working files that have been getting diff'd."
   ]
  },
  {
   "cell_type": "code",
   "execution_count": null,
   "id": "828b8097",
   "metadata": {},
   "outputs": [],
   "source": [
    "import sys\n",
    "!{sys.executable} -m pip install GitPython"
   ]
  },
  {
   "cell_type": "code",
   "execution_count": null,
   "id": "5b6b073c",
   "metadata": {},
   "outputs": [],
   "source": [
    "from git import *"
   ]
  },
  {
   "cell_type": "code",
   "execution_count": null,
   "id": "470aef79",
   "metadata": {},
   "outputs": [],
   "source": [
    "untouchables = [\"origin/HEAD\", \"origin/main\", \"origin/master\"]    # What branches should never be trimmed?"
   ]
  },
  {
   "cell_type": "code",
   "execution_count": null,
   "id": "29914b4c",
   "metadata": {},
   "outputs": [],
   "source": [
    "repo = Repo('.')\n",
    "assert not repo.bare"
   ]
  },
  {
   "cell_type": "code",
   "execution_count": null,
   "id": "e5516cf0",
   "metadata": {},
   "outputs": [],
   "source": [
    "git = repo.git"
   ]
  },
  {
   "cell_type": "code",
   "execution_count": null,
   "id": "a8591f2f",
   "metadata": {},
   "outputs": [],
   "source": [
    "remote_refs = repo.remote().refs"
   ]
  },
  {
   "cell_type": "code",
   "execution_count": null,
   "id": "ba29c64d",
   "metadata": {},
   "outputs": [],
   "source": [
    "branchestotrim = []"
   ]
  },
  {
   "cell_type": "code",
   "execution_count": null,
   "id": "3ea3cf7d",
   "metadata": {},
   "outputs": [],
   "source": [
    "for remote_ref in remote_refs:\n",
    "    if remote_ref.name not in untouchables:\n",
    "        branchestotrim.append(remote_ref.name)"
   ]
  },
  {
   "cell_type": "code",
   "execution_count": null,
   "id": "ad2c39f5",
   "metadata": {},
   "outputs": [],
   "source": [
    "branchestotrim"
   ]
  },
  {
   "cell_type": "code",
   "execution_count": null,
   "id": "73a2410a",
   "metadata": {
    "scrolled": true
   },
   "outputs": [],
   "source": [
    "for branchtotrim in branchestotrim:\n",
    "    git.checkout(branchtotrim)\n",
    "    localname = \"local-\" + branchtotrim.split(\"/\")[-1]\n",
    "    branchhost = \"/\".join(branchtotrim.split(\"/\")[:-1])    \n",
    "    branchtarget = branchtotrim.split(\"/\")[-1]\n",
    "    print(f\"Working on {branchtotrim} at {localname}\")\n",
    "    git.checkout(\"--orphan\", localname)\n",
    "    git.add(\"-A\")     # Add all files\n",
    "    changedFiles = repo.index.diff(\"HEAD\")\n",
    "    if not changedFiles:      # Delete temporary branch and do nothing else\n",
    "        git.checkout(branchtotrim)\n",
    "        git.branch(\"-D\", localname)\n",
    "    else:              # Files changed; replace old branch with temporary branch\n",
    "        git.commit(\"-m\", f\"Cleaning up {branchtotrim}\")\n",
    "        git.branch(\"-D\", branchtotrim)    # Delete old branch\n",
    "        git.branch(\"-m\", branchtotrim)    # Move temporary branch into its place\n",
    "        git.push(\"-u\", \"-f\", branchhost, branchtarget)    # And upload"
   ]
  },
  {
   "cell_type": "code",
   "execution_count": null,
   "id": "c29832cc",
   "metadata": {},
   "outputs": [],
   "source": []
  },
  {
   "cell_type": "raw",
   "id": "88c3b8d5",
   "metadata": {},
   "source": [
    "Old notes -- DO NOT RUN or this will destroy important stuff\n",
    "git checkout --orphan newBranch\n",
    "rem Add all files and commit them\n",
    "git add -A\n",
    "git commit -m \"Burn repo to the ground\"\n",
    "rem # Deletes the master branch\n",
    "git branch -D master  \n",
    "rem Rename the current branch to master\n",
    "git branch -m master  \n",
    "rem # remove the old files\n",
    "git gc --aggressive --prune=all    \n",
    "rem # Force push master branch to github\n",
    "git push -u -f origin master  \n",
    "rem  # remove the old files\n",
    "git gc --aggressive --prune=all    "
   ]
  }
 ],
 "metadata": {
  "kernelspec": {
   "display_name": "Python 3 (ipykernel)",
   "language": "python",
   "name": "python3"
  },
  "language_info": {
   "codemirror_mode": {
    "name": "ipython",
    "version": 3
   },
   "file_extension": ".py",
   "mimetype": "text/x-python",
   "name": "python",
   "nbconvert_exporter": "python",
   "pygments_lexer": "ipython3",
   "version": "3.10.6"
  }
 },
 "nbformat": 4,
 "nbformat_minor": 5
}
